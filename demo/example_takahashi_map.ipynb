{
 "cells": [
  {
   "cell_type": "code",
   "execution_count": 1,
   "metadata": {},
   "outputs": [],
   "source": [
    "import matplotlib.pyplot as plt\n",
    "import numpy as np\n",
    "import healpy as hp\n",
    "\n",
    "from astropy.io import fits\n",
    "from astropy.cosmology import FlatLambdaCDM\n",
    "from astropy import units as u\n",
    "from astropy.cosmology import z_at_value\n",
    "\n",
    "from bornraytrace import kernel as brk"
   ]
  },
  {
   "cell_type": "markdown",
   "metadata": {},
   "source": [
    "# Define cosmology"
   ]
  },
  {
   "cell_type": "code",
   "execution_count": 2,
   "metadata": {},
   "outputs": [],
   "source": [
    "cosmo_taka = FlatLambdaCDM(H0= 70 * u.km / u.s / u.Mpc, Om0=(0.233+0.046))"
   ]
  },
  {
   "cell_type": "markdown",
   "metadata": {},
   "source": [
    "# Load overdensity healpix maps\n",
    "### (Degrade resolution to nside=512 for fast example)"
   ]
  },
  {
   "cell_type": "code",
   "execution_count": 3,
   "metadata": {},
   "outputs": [],
   "source": [
    "z_bin_edges = np.genfromtxt('takahashi_mock_example/z.txt')"
   ]
  },
  {
   "cell_type": "code",
   "execution_count": 4,
   "metadata": {},
   "outputs": [],
   "source": [
    "def open_takahaski_sim(i, nside=512):\n",
    "    return fits.open('takahashi_mock_example/lens_layer_'+str(i+1)+'_1024.fits')[1].data['field']\n",
    "\n",
    "nside = 512\n",
    "overdensity_array = [open_takahaski_sim(i) for i in range(26)]\n",
    "overdensity_array = np.array([hp.ud_grade(x, nside) for x in overdensity_array])"
   ]
  },
  {
   "cell_type": "code",
   "execution_count": 5,
   "metadata": {},
   "outputs": [],
   "source": [
    "%%capture\n",
    "# capture supresses healpy warning\n",
    "hp.mollview(np.log(overdensity_array[1] + 1), title='Example overdensity map')"
   ]
  },
  {
   "cell_type": "markdown",
   "metadata": {},
   "source": [
    "# Calculate lensing convergence"
   ]
  },
  {
   "cell_type": "markdown",
   "metadata": {},
   "source": [
    "### Define source galaxy plane "
   ]
  },
  {
   "cell_type": "code",
   "execution_count": 6,
   "metadata": {},
   "outputs": [
    {
     "name": "stdout",
     "output_type": "stream",
     "text": [
      "1.5345\n"
     ]
    }
   ],
   "source": [
    "source_edge_index = 20\n",
    "z_source = z_bin_edges[source_edge_index]\n",
    "print(z_source)"
   ]
  },
  {
   "cell_type": "markdown",
   "metadata": {},
   "source": [
    "### Define the centres of the comoving overdensity shells"
   ]
  },
  {
   "cell_type": "code",
   "execution_count": 7,
   "metadata": {},
   "outputs": [],
   "source": [
    "comoving_edges =  cosmo_taka.comoving_distance(z_bin_edges)"
   ]
  },
  {
   "cell_type": "code",
   "execution_count": 8,
   "metadata": {},
   "outputs": [
    {
     "data": {
      "text/plain": [
       "(Text(0.5, 0, 'D comoving'), Text(0, 0.5, 'z'))"
      ]
     },
     "execution_count": 8,
     "metadata": {},
     "output_type": "execute_result"
    },
    {
     "data": {
      "image/png": "[encoded data removed]",
      "text/plain": [
       "<Figure size 432x288 with 1 Axes>"
      ]
     },
     "metadata": {
      "needs_background": "light"
     },
     "output_type": "display_data"
    }
   ],
   "source": [
    "plt.scatter(comoving_edges,z_bin_edges)\n",
    "plt.xlabel('D comoving'), plt.ylabel('z')"
   ]
  },
  {
   "cell_type": "markdown",
   "metadata": {},
   "source": [
    "### Calculate the redshift at the centre of the comoving shells"
   ]
  },
  {
   "cell_type": "code",
   "execution_count": 9,
   "metadata": {},
   "outputs": [],
   "source": [
    "z_centre = np.empty((len(comoving_edges)-1))\n",
    "for i in range(len(comoving_edges)-1):\n",
    "    z_centre[i] = z_at_value(cosmo_taka.comoving_distance,\n",
    "                             0.5*(comoving_edges[i]+comoving_edges[i+1]))"
   ]
  },
  {
   "cell_type": "markdown",
   "metadata": {},
   "source": [
    "### Define prefactor in lensing integral"
   ]
  },
  {
   "cell_type": "code",
   "execution_count": 10,
   "metadata": {},
   "outputs": [],
   "source": [
    "kappa_pref_evaluated = brk.kappa_prefactor(cosmo_taka.H0, cosmo_taka.Om0, length_unit = 'Mpc')"
   ]
  },
  {
   "cell_type": "markdown",
   "metadata": {},
   "source": [
    "### Define an octant mask for this example"
   ]
  },
  {
   "cell_type": "code",
   "execution_count": 11,
   "metadata": {},
   "outputs": [
    {
     "data": {
      "image/png": "[encoded data removed]",
      "text/plain": [
       "<Figure size 612x388.8 with 2 Axes>"
      ]
     },
     "metadata": {
      "needs_background": "light"
     },
     "output_type": "display_data"
    }
   ],
   "source": [
    "dec_pixels, ra_pixels = hp.pix2ang(512, range(512*512*12))\n",
    "mask_boolean = (dec_pixels < np.pi*0.5)&(ra_pixels<0.5*np.pi)*(ra_pixels > 0)\n",
    "mask_octant = np.where(mask_boolean==True,1.,0.)\n",
    "hp.mollview(mask_octant)"
   ]
  },
  {
   "cell_type": "markdown",
   "metadata": {},
   "source": [
    "### Use raytrace_integration function for single source galaxy plane"
   ]
  },
  {
   "cell_type": "code",
   "execution_count": 12,
   "metadata": {},
   "outputs": [
    {
     "name": "stdout",
     "output_type": "stream",
     "text": [
      "8.271818393309932e-07\n"
     ]
    }
   ],
   "source": [
    "map_kappa = brk.raytrace_integration(kappa_prefactor=kappa_pref_evaluated,\n",
    "                                    overdensity_array=overdensity_array[:source_edge_index].T,\n",
    "                                    a_centre=1./(1.+z_centre[:source_edge_index]),\n",
    "                                    comoving_edges=cosmo_taka.comoving_distance(z_bin_edges)[:(source_edge_index+1)])"
   ]
  },
  {
   "cell_type": "markdown",
   "metadata": {},
   "source": [
    "# Compare with Takahashi example (which used GRayTrix)"
   ]
  },
  {
   "cell_type": "code",
   "execution_count": 13,
   "metadata": {},
   "outputs": [],
   "source": [
    "kappa_taka_test = hp.ud_grade(fits.open('takahashi_mock_example/k_1024_'+str(source_edge_index+1)+\\\n",
    "                                        '.fits')[1].data['field'],512)\n",
    "\n",
    "kappa_taka_test = kappa_taka_test*mask_octant"
   ]
  },
  {
   "cell_type": "markdown",
   "metadata": {},
   "source": [
    "### Smooth maps for visualisation"
   ]
  },
  {
   "cell_type": "code",
   "execution_count": 14,
   "metadata": {},
   "outputs": [],
   "source": [
    "smooth_map_kappa = hp.smoothing(map_kappa*mask_octant, sigma=np.deg2rad(5./60), verbose=False)\n",
    "smooth_map_taka = hp.smoothing(kappa_taka_test*mask_octant, sigma=np.deg2rad(5./60), verbose=False)"
   ]
  },
  {
   "cell_type": "code",
   "execution_count": 15,
   "metadata": {},
   "outputs": [],
   "source": [
    "%%capture\n",
    "# capture supresses healpy warning\n",
    "_ = plt.figure(figsize=(12,7))\n",
    "_ = hp.visufunc.orthview(smooth_map_kappa, min=-0.025, max=0.025,\n",
    "                     title='Born raytrace', half_sky=True,sub=(1,2,1),\n",
    "                     rot = (30,20), cmap='magma')\n",
    "_ = hp.visufunc.orthview(smooth_map_taka, min=-0.025, max=0.025,\n",
    "                     title='Takahashi example', half_sky=True,sub=(1,2,2),\n",
    "                     rot = (30,20), cmap='magma')\n",
    "_ = hp.graticule(True, verbose=False)"
   ]
  },
  {
   "cell_type": "markdown",
   "metadata": {},
   "source": [
    "### Compare with angular power spectrum (factor of 8 for sky fraction:  $1/f_{sky}$)"
   ]
  },
  {
   "cell_type": "code",
   "execution_count": null,
   "metadata": {},
   "outputs": [],
   "source": [
    "cell_kappa = 8. * hp.anafast(map_kappa*mask_octant, lmax=1024)\n",
    "cell_kappa_taka = 8. *  hp.anafast(kappa_taka_test*mask_octant, lmax=1024)\n",
    "cell = np.arange(len(cell_kappa))"
   ]
  },
  {
   "cell_type": "code",
   "execution_count": null,
   "metadata": {},
   "outputs": [],
   "source": [
    "%%capture\n",
    "# capture supresses healpy warning\n",
    "ell_t, cl_t = np.load('takahashi_mock_example/cl_example.npy')\n",
    "kappa_synfast = hp.synfast(cl_t, nside=1024)\n",
    "cl_t_corrected = hp.anafast(hp.ud_grade(kappa_synfast,512), lmax=1024)"
   ]
  },
  {
   "cell_type": "code",
   "execution_count": null,
   "metadata": {},
   "outputs": [],
   "source": [
    "plt.loglog(range(len(cell_kappa)), cell_kappa,label='Born raytrace example', alpha=0.5)\n",
    "plt.loglog(range(len(cell_kappa)), cell_kappa_taka,label='Takahashi example', alpha=0.5)\n",
    "plt.scatter(range(len(cell_kappa)), cl_t_corrected, label='Theory corrected',\n",
    "            alpha=0.1, marker='.', c='black')\n",
    "plt.ylim(3e-10,2e-7), plt.legend()\n",
    "plt.ylabel(r'$C_\\ell$', fontsize=16)\n",
    "plt.xlabel(r'$\\ell$', fontsize=16)\n",
    "plt.savefig('plots/cell_test_theory.png', dpi=300)"
   ]
  }
 ],
 "metadata": {
  "kernelspec": {
   "display_name": "Python 3",
   "language": "python",
   "name": "python3"
  },
  "language_info": {
   "codemirror_mode": {
    "name": "ipython",
    "version": 3
   },
   "file_extension": ".py",
   "mimetype": "text/x-python",
   "name": "python",
   "nbconvert_exporter": "python",
   "pygments_lexer": "ipython3",
   "version": "3.7.4"
  }
 },
 "nbformat": 4,
 "nbformat_minor": 4
}
